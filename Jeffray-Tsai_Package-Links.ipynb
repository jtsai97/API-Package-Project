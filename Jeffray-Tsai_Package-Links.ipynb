{
 "cells": [
  {
   "cell_type": "markdown",
   "id": "6c705910",
   "metadata": {},
   "source": [
    "## Link to TestPyPi Package"
   ]
  },
  {
   "cell_type": "markdown",
   "id": "14b09201",
   "metadata": {},
   "source": [
    "https://test.pypi.org/project/wallstreetbetssearch/"
   ]
  },
  {
   "cell_type": "markdown",
   "id": "6f832cee",
   "metadata": {},
   "source": [
    "## Link to repo folder"
   ]
  },
  {
   "cell_type": "markdown",
   "id": "b27a56c1",
   "metadata": {},
   "source": [
    "https://github.com/QMSS-G5072-2021/Tsai_Jeffray/tree/main/Final_Project"
   ]
  },
  {
   "cell_type": "code",
   "execution_count": 1,
   "id": "1dbc3089",
   "metadata": {},
   "outputs": [
    {
     "name": "stdout",
     "output_type": "stream",
     "text": [
      "Looking in indexes: https://test.pypi.org/simple/\n",
      "Collecting wallstreetbetssearch\n",
      "  Downloading https://test-files.pythonhosted.org/packages/1a/16/ae64ffe2360782879d63212862cfa1fb2533d60af860b79b67a188f75a9f/wallstreetbetssearch-0.1.0-py3-none-any.whl (3.7 kB)\n",
      "Installing collected packages: wallstreetbetssearch\n",
      "Successfully installed wallstreetbetssearch-0.1.0\n"
     ]
    }
   ],
   "source": [
    "!python3.9 -m pip install -i https://test.pypi.org/simple/ wallstreetbetssearch"
   ]
  },
  {
   "cell_type": "code",
   "execution_count": 9,
   "id": "32b6887b",
   "metadata": {},
   "outputs": [],
   "source": [
    "import sys \n",
    "import pandas as pd\n",
    "sys.path.append('/Library/Frameworks/Python.framework/Versions/3.9/lib/python3.9/site-packages/')\n",
    "from wallstreetbetssearch import wallstreetbetssearch"
   ]
  },
  {
   "cell_type": "markdown",
   "id": "7348152d",
   "metadata": {},
   "source": [
    "## Run post search"
   ]
  },
  {
   "cell_type": "code",
   "execution_count": 10,
   "id": "4ac94d69",
   "metadata": {
    "scrolled": true
   },
   "outputs": [
    {
     "data": {
      "text/html": [
       "<div>\n",
       "<style scoped>\n",
       "    .dataframe tbody tr th:only-of-type {\n",
       "        vertical-align: middle;\n",
       "    }\n",
       "\n",
       "    .dataframe tbody tr th {\n",
       "        vertical-align: top;\n",
       "    }\n",
       "\n",
       "    .dataframe thead th {\n",
       "        text-align: right;\n",
       "    }\n",
       "</style>\n",
       "<table border=\"1\" class=\"dataframe\">\n",
       "  <thead>\n",
       "    <tr style=\"text-align: right;\">\n",
       "      <th></th>\n",
       "      <th>Unnamed: 0</th>\n",
       "      <th>subreddit</th>\n",
       "      <th>title</th>\n",
       "      <th>selftext</th>\n",
       "      <th>upvote_ratio</th>\n",
       "      <th>ups</th>\n",
       "      <th>downs</th>\n",
       "      <th>score</th>\n",
       "      <th>created_date</th>\n",
       "    </tr>\n",
       "  </thead>\n",
       "  <tbody>\n",
       "    <tr>\n",
       "      <th>17</th>\n",
       "      <td>17</td>\n",
       "      <td>wallstreetbets</td>\n",
       "      <td>I wish I invested more but happy with the returns</td>\n",
       "      <td>NaN</td>\n",
       "      <td>0.93</td>\n",
       "      <td>321.0</td>\n",
       "      <td>0.0</td>\n",
       "      <td>321.0</td>\n",
       "      <td>2021-12-16</td>\n",
       "    </tr>\n",
       "    <tr>\n",
       "      <th>19</th>\n",
       "      <td>19</td>\n",
       "      <td>wallstreetbets</td>\n",
       "      <td>PLTR CEO wishes all investors Happy Holidays a...</td>\n",
       "      <td>NaN</td>\n",
       "      <td>0.93</td>\n",
       "      <td>554.0</td>\n",
       "      <td>0.0</td>\n",
       "      <td>554.0</td>\n",
       "      <td>2021-12-16</td>\n",
       "    </tr>\n",
       "  </tbody>\n",
       "</table>\n",
       "</div>"
      ],
      "text/plain": [
       "    Unnamed: 0       subreddit  \\\n",
       "17          17  wallstreetbets   \n",
       "19          19  wallstreetbets   \n",
       "\n",
       "                                                title selftext  upvote_ratio  \\\n",
       "17  I wish I invested more but happy with the returns      NaN          0.93   \n",
       "19  PLTR CEO wishes all investors Happy Holidays a...      NaN          0.93   \n",
       "\n",
       "      ups  downs  score created_date  \n",
       "17  321.0    0.0  321.0   2021-12-16  \n",
       "19  554.0    0.0  554.0   2021-12-16  "
      ]
     },
     "execution_count": 10,
     "metadata": {},
     "output_type": "execute_result"
    }
   ],
   "source": [
    "df = pd.read_csv('posts.csv')\n",
    "wallstreetbetssearch.post_search('invest',df)"
   ]
  },
  {
   "cell_type": "markdown",
   "id": "3cf07e25",
   "metadata": {},
   "source": [
    "## Output of help(wallstreetbetssearch)"
   ]
  },
  {
   "cell_type": "code",
   "execution_count": 11,
   "id": "41743aae",
   "metadata": {},
   "outputs": [
    {
     "name": "stdout",
     "output_type": "stream",
     "text": [
      "Help on module wallstreetbetssearch.wallstreetbetssearch in wallstreetbetssearch:\n",
      "\n",
      "NAME\n",
      "    wallstreetbetssearch.wallstreetbetssearch\n",
      "\n",
      "FUNCTIONS\n",
      "    get_results(limit_only, token)\n",
      "        This function to obtain posts from WallStreetBets subreddit. \n",
      "        Parameters: limit_only - the maximum number of items to return. \n",
      "        Typical example: \n",
      "        |subreddit      |title                     |selftext             |upvote_ratio|ups  |downs|score|created_utc\n",
      "        |wallstreetbets |Daily Discussion Thread...|Your daily trading...|0.90        |245.0|0.0  |245.0|2021-12-16T06:00:12Z\n",
      "    \n",
      "    post_search(keyword, df)\n",
      "        This function is primarily used to search for keywords within posts. \n",
      "        Parameters: keyword - the function will search for the keyword in the title and post's text, df - the dataframe used.\n",
      "        Typical example:\n",
      "        |subreddit     |title                         |selftext                         |upvote_ratio|ups  |downs|score|created_utc\n",
      "        |wallstreetbets|Are you buying the Reddit ipo?|Are you buying the Reddit ipo?...|0.91        |903.0|0.0  |903.0|2021-12-16T08:48:49Z\n",
      "    \n",
      "    upvote_ratio(low, high, df)\n",
      "        This function will search for posts with a certain ratio of upvotes that are between the given parameter. \n",
      "        Parameters: low/high - the ratio should be between these two numbers, df - the dataframe used.\n",
      "    \n",
      "    upvotes_search(low, high, df)\n",
      "        This function will search for posts with a certain number of upvotes that are between the given parameter. \n",
      "        Parameters: low/high - the number of upvotes should between these two numbers, df - the dataframe used. \n",
      "        Typical example: \n",
      "        |subreddit     |title                     |selftext                               |upvote_ratio|ups  |downs|score|created_utc\n",
      "        |wallstreetbets|Daily Discussion Thread...|Your daily trading discussion thread...|0.90        |245.0|0.0  |245.0|2021-12-16T06:0012Z\n",
      "\n",
      "FILE\n",
      "    /Library/Frameworks/Python.framework/Versions/3.9/lib/python3.9/site-packages/wallstreetbetssearch/wallstreetbetssearch.py\n",
      "\n",
      "\n"
     ]
    }
   ],
   "source": [
    "help(wallstreetbetssearch)"
   ]
  },
  {
   "cell_type": "markdown",
   "id": "b8142029",
   "metadata": {},
   "source": [
    "## Output of help(wallstreetbetssearch.post_search)"
   ]
  },
  {
   "cell_type": "code",
   "execution_count": 12,
   "id": "4448d3c3",
   "metadata": {
    "scrolled": true
   },
   "outputs": [
    {
     "name": "stdout",
     "output_type": "stream",
     "text": [
      "Help on function post_search in module wallstreetbetssearch.wallstreetbetssearch:\n",
      "\n",
      "post_search(keyword, df)\n",
      "    This function is primarily used to search for keywords within posts. \n",
      "    Parameters: keyword - the function will search for the keyword in the title and post's text, df - the dataframe used.\n",
      "    Typical example:\n",
      "    |subreddit     |title                         |selftext                         |upvote_ratio|ups  |downs|score|created_utc\n",
      "    |wallstreetbets|Are you buying the Reddit ipo?|Are you buying the Reddit ipo?...|0.91        |903.0|0.0  |903.0|2021-12-16T08:48:49Z\n",
      "\n"
     ]
    }
   ],
   "source": [
    "help(wallstreetbetssearch.post_search)"
   ]
  },
  {
   "cell_type": "markdown",
   "id": "fa0b57cc",
   "metadata": {},
   "source": [
    "## Output of help(wallstreetbetssearch.upvotes_search)"
   ]
  },
  {
   "cell_type": "code",
   "execution_count": 13,
   "id": "20e7d8a0",
   "metadata": {},
   "outputs": [
    {
     "name": "stdout",
     "output_type": "stream",
     "text": [
      "Help on function upvotes_search in module wallstreetbetssearch.wallstreetbetssearch:\n",
      "\n",
      "upvotes_search(low, high, df)\n",
      "    This function will search for posts with a certain number of upvotes that are between the given parameter. \n",
      "    Parameters: low/high - the number of upvotes should between these two numbers, df - the dataframe used. \n",
      "    Typical example: \n",
      "    |subreddit     |title                     |selftext                               |upvote_ratio|ups  |downs|score|created_utc\n",
      "    |wallstreetbets|Daily Discussion Thread...|Your daily trading discussion thread...|0.90        |245.0|0.0  |245.0|2021-12-16T06:0012Z\n",
      "\n"
     ]
    }
   ],
   "source": [
    "help(wallstreetbetssearch.upvotes_search)"
   ]
  },
  {
   "cell_type": "markdown",
   "id": "f2f3bd5f",
   "metadata": {},
   "source": [
    "## Output of help(wallstreetbetssearch.upvote_ratio)"
   ]
  },
  {
   "cell_type": "code",
   "execution_count": 14,
   "id": "450441f7",
   "metadata": {},
   "outputs": [
    {
     "name": "stdout",
     "output_type": "stream",
     "text": [
      "Help on function upvote_ratio in module wallstreetbetssearch.wallstreetbetssearch:\n",
      "\n",
      "upvote_ratio(low, high, df)\n",
      "    This function will search for posts with a certain ratio of upvotes that are between the given parameter. \n",
      "    Parameters: low/high - the ratio should be between these two numbers, df - the dataframe used.\n",
      "\n"
     ]
    }
   ],
   "source": [
    "help(wallstreetbetssearch.upvote_ratio)"
   ]
  }
 ],
 "metadata": {
  "kernelspec": {
   "display_name": "Python 3 (ipykernel)",
   "language": "python",
   "name": "python3"
  },
  "language_info": {
   "codemirror_mode": {
    "name": "ipython",
    "version": 3
   },
   "file_extension": ".py",
   "mimetype": "text/x-python",
   "name": "python",
   "nbconvert_exporter": "python",
   "pygments_lexer": "ipython3",
   "version": "3.9.7"
  }
 },
 "nbformat": 4,
 "nbformat_minor": 5
}
